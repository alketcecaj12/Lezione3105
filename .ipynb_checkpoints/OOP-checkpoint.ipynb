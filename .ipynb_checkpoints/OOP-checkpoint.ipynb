{
 "cells": [
  {
   "cell_type": "code",
   "execution_count": 26,
   "metadata": {},
   "outputs": [
    {
     "name": "stdout",
     "output_type": "stream",
     "text": [
      "verde\n",
      "('sto accelerando', 'suv')\n"
     ]
    }
   ],
   "source": [
    "class Auto(object):\n",
    "    \n",
    "    def __init__(self, color, n_doors, tipo_auto):\n",
    "        self.color = color\n",
    "        self.n_doors = n_doors\n",
    "        self.tipo_auto = tipo_auto\n",
    "    \n",
    "    def metti_in_moto(self): \n",
    "        return \"metto in moto: brum, brum\", (self.tipo_auto)\n",
    "    \n",
    "    def accelera(self): \n",
    "        return \"sto accelerando\", (self.tipo_auto)\n",
    " \n",
    "\n",
    "if __name__ == \"__main__\":\n",
    "    auto_4 = Auto(\"verde\", 5, \"suv\")\n",
    "    print(auto_4.color)\n",
    "    print(auto_4.accelera())"
   ]
  },
  {
   "cell_type": "code",
   "execution_count": 20,
   "metadata": {},
   "outputs": [],
   "source": [
    "auto = Auto(\"rosso\", 5, \"crossover\")\n",
    "camion = Auto(\"giallo\", 2, \"camion\")"
   ]
  },
  {
   "cell_type": "code",
   "execution_count": 21,
   "metadata": {},
   "outputs": [
    {
     "data": {
      "text/plain": [
       "('metto in moto: brum, brum', 'crossover')"
      ]
     },
     "execution_count": 21,
     "metadata": {},
     "output_type": "execute_result"
    }
   ],
   "source": [
    "auto.metti_in_moto()"
   ]
  },
  {
   "cell_type": "code",
   "execution_count": 22,
   "metadata": {},
   "outputs": [],
   "source": [
    "camion.color = \"rosso\""
   ]
  },
  {
   "cell_type": "code",
   "execution_count": 23,
   "metadata": {},
   "outputs": [
    {
     "name": "stdout",
     "output_type": "stream",
     "text": [
      "rosso\n"
     ]
    }
   ],
   "source": [
    "print(camion.color)"
   ]
  },
  {
   "cell_type": "code",
   "execution_count": 24,
   "metadata": {},
   "outputs": [
    {
     "data": {
      "text/plain": [
       "('sto accelerando', 'camion')"
      ]
     },
     "execution_count": 24,
     "metadata": {},
     "output_type": "execute_result"
    }
   ],
   "source": [
    "camion.accelera()"
   ]
  },
  {
   "cell_type": "code",
   "execution_count": null,
   "metadata": {},
   "outputs": [],
   "source": [
    "auto = Auto(\"\")"
   ]
  },
  {
   "cell_type": "code",
   "execution_count": null,
   "metadata": {},
   "outputs": [],
   "source": []
  }
 ],
 "metadata": {
  "kernelspec": {
   "display_name": "Python 3",
   "language": "python",
   "name": "python3"
  },
  "language_info": {
   "codemirror_mode": {
    "name": "ipython",
    "version": 3
   },
   "file_extension": ".py",
   "mimetype": "text/x-python",
   "name": "python",
   "nbconvert_exporter": "python",
   "pygments_lexer": "ipython3",
   "version": "3.8.3"
  }
 },
 "nbformat": 4,
 "nbformat_minor": 4
}
